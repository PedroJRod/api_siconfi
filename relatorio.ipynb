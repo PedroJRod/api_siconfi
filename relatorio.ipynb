{
 "cells": [
  {
   "cell_type": "code",
   "execution_count": 7,
   "metadata": {},
   "outputs": [
    {
     "name": "stdout",
     "output_type": "stream",
     "text": [
      "Collecting tabulate\n",
      "  Using cached tabulate-0.9.0-py3-none-any.whl.metadata (34 kB)\n",
      "Using cached tabulate-0.9.0-py3-none-any.whl (35 kB)\n",
      "Installing collected packages: tabulate\n",
      "Successfully installed tabulate-0.9.0\n",
      "Note: you may need to restart the kernel to use updated packages.\n"
     ]
    },
    {
     "name": "stderr",
     "output_type": "stream",
     "text": [
      "  WARNING: The script tabulate.exe is installed in 'c:\\Users\\Acer\\AppData\\Local\\Programs\\Python\\Python311\\Scripts' which is not on PATH.\n",
      "  Consider adding this directory to PATH or, if you prefer to suppress this warning, use --no-warn-script-location.\n"
     ]
    }
   ],
   "source": [
    "pip install tabulate"
   ]
  },
  {
   "cell_type": "code",
   "execution_count": 8,
   "metadata": {},
   "outputs": [],
   "source": [
    "import requests, json\n",
    "import pandas as pd\n",
    "from tabulate import tabulate"
   ]
  },
  {
   "cell_type": "code",
   "execution_count": 9,
   "metadata": {},
   "outputs": [],
   "source": [
    "def RREO(an_exercicio, nr_periodo, co_tipo_demonstrativo, no_anexo, id_ente):\n",
    "    url = f'https://apidatalake.tesouro.gov.br/ords/siconfi/tt//rreo?an_exercicio={an_exercicio}&nr_periodo={nr_periodo}&co_tipo_demonstrativo={co_tipo_demonstrativo}&no_anexo={no_anexo}&co_esfera=&id_ente={id_ente}'\n",
    "    response = requests.get(url)\n",
    "    if(response.status_code != 200): \n",
    "            return({result:'Falhou'})\n",
    "    dados = response.json()\n",
    "    return dados"
   ]
  },
  {
   "cell_type": "code",
   "execution_count": 126,
   "metadata": {},
   "outputs": [],
   "source": [
    "#RREO Anexo 01\n",
    "\n",
    "an_exercicio = '2024'\n",
    "no_anexo = 'RREO-Anexo+01'\n",
    "nr_periodo = '6'\n",
    "co_tipo_demonstrativo = \"RREO\"\n",
    "id_ente = \"11\" #Código IBGE do Ente.\n",
    "\n",
    "dados = RREO(an_exercicio, nr_periodo, co_tipo_demonstrativo, no_anexo, id_ente)\n",
    "\n",
    "rreo_df_01 = dados['items']\n",
    "rreo_df_01 = pd.DataFrame(rreo_df_01)\n",
    "\n",
    "rreo_df_01['valor'] = (rreo_df_01['valor']/1000000).round(2)"
   ]
  },
  {
   "cell_type": "code",
   "execution_count": 127,
   "metadata": {},
   "outputs": [
    {
     "data": {
      "text/html": [
       "<div>\n",
       "<style scoped>\n",
       "    .dataframe tbody tr th:only-of-type {\n",
       "        vertical-align: middle;\n",
       "    }\n",
       "\n",
       "    .dataframe tbody tr th {\n",
       "        vertical-align: top;\n",
       "    }\n",
       "\n",
       "    .dataframe thead th {\n",
       "        text-align: right;\n",
       "    }\n",
       "</style>\n",
       "<table border=\"1\" class=\"dataframe\">\n",
       "  <thead>\n",
       "    <tr style=\"text-align: right;\">\n",
       "      <th></th>\n",
       "      <th>exercicio</th>\n",
       "      <th>demonstrativo</th>\n",
       "      <th>periodo</th>\n",
       "      <th>periodicidade</th>\n",
       "      <th>instituicao</th>\n",
       "      <th>cod_ibge</th>\n",
       "      <th>uf</th>\n",
       "      <th>populacao</th>\n",
       "      <th>anexo</th>\n",
       "      <th>esfera</th>\n",
       "      <th>rotulo</th>\n",
       "      <th>coluna</th>\n",
       "      <th>cod_conta</th>\n",
       "      <th>conta</th>\n",
       "      <th>valor</th>\n",
       "    </tr>\n",
       "  </thead>\n",
       "  <tbody>\n",
       "    <tr>\n",
       "      <th>0</th>\n",
       "      <td>2024</td>\n",
       "      <td>RREO</td>\n",
       "      <td>6</td>\n",
       "      <td>B</td>\n",
       "      <td>Governo do Estado de Rondônia</td>\n",
       "      <td>11</td>\n",
       "      <td>RO</td>\n",
       "      <td>1616379</td>\n",
       "      <td>RREO-Anexo 01</td>\n",
       "      <td>E</td>\n",
       "      <td>Padrão</td>\n",
       "      <td>PREVISÃO INICIAL</td>\n",
       "      <td>ReceitasExcetoIntraOrcamentarias</td>\n",
       "      <td>RECEITAS (EXCETO INTRA-ORÇAMENTÁRIAS) (I)</td>\n",
       "      <td>14923.76</td>\n",
       "    </tr>\n",
       "    <tr>\n",
       "      <th>1</th>\n",
       "      <td>2024</td>\n",
       "      <td>RREO</td>\n",
       "      <td>6</td>\n",
       "      <td>B</td>\n",
       "      <td>Governo do Estado de Rondônia</td>\n",
       "      <td>11</td>\n",
       "      <td>RO</td>\n",
       "      <td>1616379</td>\n",
       "      <td>RREO-Anexo 01</td>\n",
       "      <td>E</td>\n",
       "      <td>Padrão</td>\n",
       "      <td>PREVISÃO ATUALIZADA (a)</td>\n",
       "      <td>ReceitasExcetoIntraOrcamentarias</td>\n",
       "      <td>RECEITAS (EXCETO INTRA-ORÇAMENTÁRIAS) (I)</td>\n",
       "      <td>15087.65</td>\n",
       "    </tr>\n",
       "  </tbody>\n",
       "</table>\n",
       "</div>"
      ],
      "text/plain": [
       "   exercicio demonstrativo  periodo periodicidade  \\\n",
       "0       2024          RREO        6             B   \n",
       "1       2024          RREO        6             B   \n",
       "\n",
       "                     instituicao  cod_ibge  uf  populacao          anexo  \\\n",
       "0  Governo do Estado de Rondônia        11  RO    1616379  RREO-Anexo 01   \n",
       "1  Governo do Estado de Rondônia        11  RO    1616379  RREO-Anexo 01   \n",
       "\n",
       "  esfera  rotulo                   coluna                         cod_conta  \\\n",
       "0      E  Padrão         PREVISÃO INICIAL  ReceitasExcetoIntraOrcamentarias   \n",
       "1      E  Padrão  PREVISÃO ATUALIZADA (a)  ReceitasExcetoIntraOrcamentarias   \n",
       "\n",
       "                                       conta     valor  \n",
       "0  RECEITAS (EXCETO INTRA-ORÇAMENTÁRIAS) (I)  14923.76  \n",
       "1  RECEITAS (EXCETO INTRA-ORÇAMENTÁRIAS) (I)  15087.65  "
      ]
     },
     "execution_count": 127,
     "metadata": {},
     "output_type": "execute_result"
    }
   ],
   "source": [
    "rreo_df_01.head(2)"
   ]
  },
  {
   "cell_type": "code",
   "execution_count": null,
   "metadata": {},
   "outputs": [
    {
     "name": "stdout",
     "output_type": "stream",
     "text": [
      "['RECEITAS (EXCETO INTRA-ORÇAMENTÁRIAS) (I)' 'RECEITAS CORRENTES'\n",
      " 'IMPOSTOS, TAXAS E CONTRIBUIÇÕES DE MELHORIA' 'Impostos' 'Taxas'\n",
      " 'CONTRIBUIÇÕES' 'Contribuições Sociais' 'RECEITA PATRIMONIAL'\n",
      " 'Exploração do Patrimônio Imobiliário do Estado' 'Valores Mobiliários'\n",
      " 'Exploração de Recursos Naturais' 'Exploração do Patrimônio Intangível'\n",
      " 'Cessão de Direitos' 'Demais Receitas Patrimoniais' 'RECEITA DE SERVIÇOS'\n",
      " 'Serviços Administrativos e Comerciais Gerais'\n",
      " 'Serviços e Atividades Referentes à Navegação e ao Transporte'\n",
      " 'Outros Serviços' 'TRANSFERÊNCIAS CORRENTES'\n",
      " 'Transferências da União e de suas Entidades'\n",
      " 'Transferências dos Estados e do Distrito Federal e de suas Entidades'\n",
      " 'Transferências dos Municípios e de suas Entidades'\n",
      " 'Transferências de Instituições Privadas'\n",
      " 'Transferências de Outras Instituições Públicas'\n",
      " 'Demais Transferências Correntes' 'OUTRAS RECEITAS CORRENTES'\n",
      " 'Multas Administrativas, Contratuais e Judiciais'\n",
      " 'Indenizações, Restituições e Ressarcimentos'\n",
      " 'Bens, Direitos e Valores Incorporados ao Patrimônio Público'\n",
      " 'Demais Receitas Correntes' 'RECEITAS DE CAPITAL' 'OPERAÇÕES DE CRÉDITO'\n",
      " 'Operações de Crédito - Mercado Interno' 'ALIENAÇÃO DE BENS'\n",
      " 'Alienação de Bens Móveis' 'Alienação de Bens Imóveis'\n",
      " 'TRANSFERÊNCIAS DE CAPITAL' 'Demais Transferências de Capital'\n",
      " 'OUTRAS RECEITAS DE CAPITAL' 'Demais Receitas de Capital'\n",
      " 'RECEITAS (INTRA-ORÇAMENTÁRIAS) (II)'\n",
      " 'SUBTOTAL DAS RECEITAS (III) = (I + II)'\n",
      " 'TOTAL DAS RECEITAS (V) = (III + IV)'\n",
      " 'TOTAL COM DÉFICIT (VII) = (V + VI)' 'SALDOS DE EXERCÍCIOS ANTERIORES'\n",
      " 'Superávit Financeiro Utilizado para Créditos Adicionais'\n",
      " 'DESPESAS (EXCETO INTRA-ORÇAMENTÁRIAS) (VIII)' 'DESPESAS CORRENTES'\n",
      " 'PESSOAL E ENCARGOS SOCIAIS' 'JUROS E ENCARGOS DA DÍVIDA'\n",
      " 'OUTRAS DESPESAS CORRENTES' 'Demais Despesas Correntes'\n",
      " 'DESPESAS DE CAPITAL' 'INVESTIMENTOS' 'INVERSÕES FINANCEIRAS'\n",
      " 'AMORTIZAÇÃO DA DÍVIDA' 'RESERVA DE CONTINGÊNCIA'\n",
      " 'DESPESAS (INTRA-ORÇAMENTÁRIAS) (IX)'\n",
      " 'SUBTOTAL DAS DESPESAS (X) = (VIII + IX)'\n",
      " 'AMORTIZAÇÃO DA DÍVIDA / REFINANCIAMENTO (XI)'\n",
      " 'Amortização da Dívida Interna' 'Dívida Contratual'\n",
      " 'TOTAL DAS DESPESAS (XII) = (X + XI)' 'SUPERÁVIT (XIII)'\n",
      " 'TOTAL COM SUPERÁVIT (XIV) = (XII + XIII)']\n"
     ]
    }
   ],
   "source": [
    "print(rreo_df_01['conta'].unique())"
   ]
  },
  {
   "cell_type": "code",
   "execution_count": 128,
   "metadata": {},
   "outputs": [
    {
     "name": "stdout",
     "output_type": "stream",
     "text": [
      "╒════╤════════════════════════════╤═══════════════════════════╤══════════════════════╕\n",
      "│    │ conta                      │   PREVISÃO ATUALIZADA (a) │   Até o Bimestre (c) │\n",
      "╞════╪════════════════════════════╪═══════════════════════════╪══════════════════════╡\n",
      "│  0 │ ALIENAÇÃO DE BENS          │                    nan    │                 1.36 │\n",
      "├────┼────────────────────────────┼───────────────────────────┼──────────────────────┤\n",
      "│  1 │ CONTRIBUIÇÕES              │                    532.44 │               616.32 │\n",
      "├────┼────────────────────────────┼───────────────────────────┼──────────────────────┤\n",
      "│  2 │ OPERAÇÕES DE CRÉDITO       │                      5    │                 1.9  │\n",
      "├────┼────────────────────────────┼───────────────────────────┼──────────────────────┤\n",
      "│  3 │ OUTRAS RECEITAS CORRENTES  │                    450.01 │               578.86 │\n",
      "├────┼────────────────────────────┼───────────────────────────┼──────────────────────┤\n",
      "│  4 │ OUTRAS RECEITAS DE CAPITAL │                     16    │                16.41 │\n",
      "├────┼────────────────────────────┼───────────────────────────┼──────────────────────┤\n",
      "│  5 │ RECEITA DE SERVIÇOS        │                    440.95 │               492.19 │\n",
      "├────┼────────────────────────────┼───────────────────────────┼──────────────────────┤\n",
      "│  6 │ RECEITA PATRIMONIAL        │                    834.01 │               650.18 │\n",
      "├────┼────────────────────────────┼───────────────────────────┼──────────────────────┤\n",
      "│  7 │ RECEITAS DE CAPITAL        │                    148.24 │               133.29 │\n",
      "├────┼────────────────────────────┼───────────────────────────┼──────────────────────┤\n",
      "│  8 │ TRANSFERÊNCIAS CORRENTES   │                   6624.75 │              6632.18 │\n",
      "├────┼────────────────────────────┼───────────────────────────┼──────────────────────┤\n",
      "│  9 │ TRANSFERÊNCIAS DE CAPITAL  │                    127.24 │               113.62 │\n",
      "╘════╧════════════════════════════╧═══════════════════════════╧══════════════════════╛\n"
     ]
    }
   ],
   "source": [
    "contas_desejadas = [\n",
    "    'CONTRIBUIÇÕES',\n",
    " 'RECEITA PATRIMONIAL',\n",
    " 'RECEITA DE SERVIÇOS',\n",
    " 'TRANSFERÊNCIAS CORRENTES',\n",
    " 'OUTRAS RECEITAS CORRENTES',\n",
    " 'RECEITAS DE CAPITAL',\n",
    " 'OPERAÇÕES DE CRÉDITO',\n",
    " 'ALIENAÇÃO DE BENS',\n",
    " 'TRANSFERÊNCIAS DE CAPITAL',\n",
    " 'OUTRAS RECEITAS DE CAPITAL'\n",
    "]\n",
    "\n",
    "df_01 = rreo_df_01[(rreo_df_01['conta'].isin(contas_desejadas)) & (rreo_df_01['coluna'].isin(['PREVISÃO ATUALIZADA (a)','Até o Bimestre (c)']))]\n",
    "\n",
    "df_01 = pd.pivot_table(df_01, values='valor', index=['conta'], columns=['coluna'], aggfunc='first').reset_index()\n",
    "\n",
    "df_01 = df_01.reindex(columns=['conta','PREVISÃO ATUALIZADA (a)','Até o Bimestre (c)'])\n",
    "\n",
    "print(tabulate(df_01, headers='keys', tablefmt='fancy_grid'))"
   ]
  },
  {
   "cell_type": "code",
   "execution_count": 136,
   "metadata": {},
   "outputs": [
    {
     "data": {
      "text/html": [
       "<div>\n",
       "<style scoped>\n",
       "    .dataframe tbody tr th:only-of-type {\n",
       "        vertical-align: middle;\n",
       "    }\n",
       "\n",
       "    .dataframe tbody tr th {\n",
       "        vertical-align: top;\n",
       "    }\n",
       "\n",
       "    .dataframe thead th {\n",
       "        text-align: right;\n",
       "    }\n",
       "</style>\n",
       "<table border=\"1\" class=\"dataframe\">\n",
       "  <thead>\n",
       "    <tr style=\"text-align: right;\">\n",
       "      <th></th>\n",
       "      <th>exercicio</th>\n",
       "      <th>demonstrativo</th>\n",
       "      <th>periodo</th>\n",
       "      <th>periodicidade</th>\n",
       "      <th>instituicao</th>\n",
       "      <th>cod_ibge</th>\n",
       "      <th>uf</th>\n",
       "      <th>populacao</th>\n",
       "      <th>anexo</th>\n",
       "      <th>esfera</th>\n",
       "      <th>rotulo</th>\n",
       "      <th>coluna</th>\n",
       "      <th>cod_conta</th>\n",
       "      <th>conta</th>\n",
       "      <th>valor</th>\n",
       "    </tr>\n",
       "  </thead>\n",
       "  <tbody>\n",
       "    <tr>\n",
       "      <th>0</th>\n",
       "      <td>2024</td>\n",
       "      <td>RREO</td>\n",
       "      <td>6</td>\n",
       "      <td>B</td>\n",
       "      <td>Governo do Estado de Rondônia</td>\n",
       "      <td>11</td>\n",
       "      <td>RO</td>\n",
       "      <td>1616379</td>\n",
       "      <td>RREO-Anexo 03</td>\n",
       "      <td>E</td>\n",
       "      <td>Padrão</td>\n",
       "      <td>&lt;MR-11&gt;</td>\n",
       "      <td>ReceitasCorrentesLiquidasExcetoTransferenciasE...</td>\n",
       "      <td>RECEITAS CORRENTES (I)</td>\n",
       "      <td>1484.34</td>\n",
       "    </tr>\n",
       "    <tr>\n",
       "      <th>1</th>\n",
       "      <td>2024</td>\n",
       "      <td>RREO</td>\n",
       "      <td>6</td>\n",
       "      <td>B</td>\n",
       "      <td>Governo do Estado de Rondônia</td>\n",
       "      <td>11</td>\n",
       "      <td>RO</td>\n",
       "      <td>1616379</td>\n",
       "      <td>RREO-Anexo 03</td>\n",
       "      <td>E</td>\n",
       "      <td>Padrão</td>\n",
       "      <td>&lt;MR-10&gt;</td>\n",
       "      <td>ReceitasCorrentesLiquidasExcetoTransferenciasE...</td>\n",
       "      <td>RECEITAS CORRENTES (I)</td>\n",
       "      <td>1739.21</td>\n",
       "    </tr>\n",
       "  </tbody>\n",
       "</table>\n",
       "</div>"
      ],
      "text/plain": [
       "   exercicio demonstrativo  periodo periodicidade  \\\n",
       "0       2024          RREO        6             B   \n",
       "1       2024          RREO        6             B   \n",
       "\n",
       "                     instituicao  cod_ibge  uf  populacao          anexo  \\\n",
       "0  Governo do Estado de Rondônia        11  RO    1616379  RREO-Anexo 03   \n",
       "1  Governo do Estado de Rondônia        11  RO    1616379  RREO-Anexo 03   \n",
       "\n",
       "  esfera  rotulo   coluna                                          cod_conta  \\\n",
       "0      E  Padrão  <MR-11>  ReceitasCorrentesLiquidasExcetoTransferenciasE...   \n",
       "1      E  Padrão  <MR-10>  ReceitasCorrentesLiquidasExcetoTransferenciasE...   \n",
       "\n",
       "                    conta    valor  \n",
       "0  RECEITAS CORRENTES (I)  1484.34  \n",
       "1  RECEITAS CORRENTES (I)  1739.21  "
      ]
     },
     "execution_count": 136,
     "metadata": {},
     "output_type": "execute_result"
    }
   ],
   "source": [
    "#RREO Anexo 03\n",
    "\n",
    "an_exercicio = '2024'\n",
    "no_anexo = 'RREO-Anexo 03'\n",
    "nr_periodo = '6'\n",
    "co_tipo_demonstrativo = \"RREO\"\n",
    "id_ente = \"11\" #Código IBGE do Ente.\n",
    "\n",
    "dados = RREO(an_exercicio, nr_periodo, co_tipo_demonstrativo, no_anexo, id_ente)\n",
    "\n",
    "rreo_df_03 = dados['items']\n",
    "rreo_df_03 = pd.DataFrame(rreo_df_03)\n",
    "\n",
    "rreo_df_03['valor'] = (rreo_df_03['valor']/1000000).round(2)\n",
    "\n",
    "rreo_df_03.head(2)"
   ]
  },
  {
   "cell_type": "code",
   "execution_count": 71,
   "metadata": {},
   "outputs": [
    {
     "name": "stdout",
     "output_type": "stream",
     "text": [
      "['<MR-11>' '<MR-10>' '<MR-9>' '<MR-8>' '<MR-7>' '<MR-6>' '<MR-5>' '<MR-4>'\n",
      " '<MR-3>' '<MR-2>' '<MR-1>' '<MR>' 'TOTAL (ÚLTIMOS 12 MESES)'\n",
      " 'PREVISÃO ATUALIZADA 2024']\n"
     ]
    }
   ],
   "source": [
    "print(rreo_df_03['coluna'].unique())"
   ]
  },
  {
   "cell_type": "code",
   "execution_count": 130,
   "metadata": {},
   "outputs": [
    {
     "name": "stdout",
     "output_type": "stream",
     "text": [
      "╒════╤═════════════════════════════════════════════╤═══════════════════════════╤══════════════════════╕\n",
      "│    │ conta                                       │   PREVISÃO ATUALIZADA (a) │   Até o Bimestre (c) │\n",
      "╞════╪═════════════════════════════════════════════╪═══════════════════════════╪══════════════════════╡\n",
      "│  0 │ Dedução de Receita para Formação do FUNDEB  │                   2282.06 │              2252.07 │\n",
      "├────┼─────────────────────────────────────────────┼───────────────────────────┼──────────────────────┤\n",
      "│  1 │ Impostos, Taxas e Contribuições de Melhoria │                   9519.15 │              9338.63 │\n",
      "├────┼─────────────────────────────────────────────┼───────────────────────────┼──────────────────────┤\n",
      "│  2 │ Transferências Constitucionais e Legais     │                   2236.59 │              2185.58 │\n",
      "╘════╧═════════════════════════════════════════════╧═══════════════════════════╧══════════════════════╛\n"
     ]
    }
   ],
   "source": [
    "contas_desejadas = [\n",
    "    'Impostos, Taxas e Contribuições de Melhoria',\n",
    "    'Transferências Constitucionais e Legais',\n",
    "    'Dedução de Receita para Formação do FUNDEB'\n",
    "]\n",
    "\n",
    "df_03 = rreo_df_03[(rreo_df_03['conta'].isin(contas_desejadas)) & (rreo_df_03['coluna'].isin(['PREVISÃO ATUALIZADA 2024','TOTAL (ÚLTIMOS 12 MESES)']))]\n",
    "\n",
    "df_03 = pd.pivot_table(df_03, values='valor', index=['conta'], columns=['coluna'], aggfunc='first').reset_index()\n",
    "\n",
    "df_03.rename(columns={\"PREVISÃO ATUALIZADA 2024\": \"PREVISÃO ATUALIZADA (a)\", \"TOTAL (ÚLTIMOS 12 MESES)\": \"Até o Bimestre (c)\"}, inplace=True)\n",
    "\n",
    "print(tabulate(df_03, headers='keys', tablefmt='fancy_grid'))"
   ]
  },
  {
   "cell_type": "code",
   "execution_count": 133,
   "metadata": {},
   "outputs": [
    {
     "data": {
      "text/html": [
       "<div>\n",
       "<style scoped>\n",
       "    .dataframe tbody tr th:only-of-type {\n",
       "        vertical-align: middle;\n",
       "    }\n",
       "\n",
       "    .dataframe tbody tr th {\n",
       "        vertical-align: top;\n",
       "    }\n",
       "\n",
       "    .dataframe thead th {\n",
       "        text-align: right;\n",
       "    }\n",
       "</style>\n",
       "<table border=\"1\" class=\"dataframe\">\n",
       "  <thead>\n",
       "    <tr style=\"text-align: right;\">\n",
       "      <th>coluna</th>\n",
       "      <th>conta</th>\n",
       "      <th>PREVISÃO ATUALIZADA (a)</th>\n",
       "      <th>Até o Bimestre (c)</th>\n",
       "    </tr>\n",
       "  </thead>\n",
       "  <tbody>\n",
       "    <tr>\n",
       "      <th>0</th>\n",
       "      <td>ALIENAÇÃO DE BENS</td>\n",
       "      <td>0.00</td>\n",
       "      <td>1.36</td>\n",
       "    </tr>\n",
       "    <tr>\n",
       "      <th>1</th>\n",
       "      <td>CONTRIBUIÇÕES</td>\n",
       "      <td>532.44</td>\n",
       "      <td>616.32</td>\n",
       "    </tr>\n",
       "    <tr>\n",
       "      <th>2</th>\n",
       "      <td>OPERAÇÕES DE CRÉDITO</td>\n",
       "      <td>5.00</td>\n",
       "      <td>1.90</td>\n",
       "    </tr>\n",
       "    <tr>\n",
       "      <th>3</th>\n",
       "      <td>OUTRAS RECEITAS CORRENTES</td>\n",
       "      <td>450.01</td>\n",
       "      <td>578.86</td>\n",
       "    </tr>\n",
       "    <tr>\n",
       "      <th>4</th>\n",
       "      <td>OUTRAS RECEITAS DE CAPITAL</td>\n",
       "      <td>16.00</td>\n",
       "      <td>16.41</td>\n",
       "    </tr>\n",
       "  </tbody>\n",
       "</table>\n",
       "</div>"
      ],
      "text/plain": [
       "coluna                       conta  PREVISÃO ATUALIZADA (a)  \\\n",
       "0                ALIENAÇÃO DE BENS                     0.00   \n",
       "1                    CONTRIBUIÇÕES                   532.44   \n",
       "2             OPERAÇÕES DE CRÉDITO                     5.00   \n",
       "3        OUTRAS RECEITAS CORRENTES                   450.01   \n",
       "4       OUTRAS RECEITAS DE CAPITAL                    16.00   \n",
       "\n",
       "coluna  Até o Bimestre (c)  \n",
       "0                     1.36  \n",
       "1                   616.32  \n",
       "2                     1.90  \n",
       "3                   578.86  \n",
       "4                    16.41  "
      ]
     },
     "execution_count": 133,
     "metadata": {},
     "output_type": "execute_result"
    }
   ],
   "source": [
    "df_consolidado = pd.concat([df_01, df_03])\n",
    "df_consolidado.fillna(0, inplace=True)\n",
    "df_consolidado.head(5)"
   ]
  },
  {
   "cell_type": "code",
   "execution_count": 134,
   "metadata": {},
   "outputs": [],
   "source": [
    "df_consolidado.to_csv('rreo.csv', index=False)"
   ]
  },
  {
   "cell_type": "code",
   "execution_count": null,
   "metadata": {},
   "outputs": [],
   "source": []
  }
 ],
 "metadata": {
  "kernelspec": {
   "display_name": "Python 3",
   "language": "python",
   "name": "python3"
  },
  "language_info": {
   "codemirror_mode": {
    "name": "ipython",
    "version": 3
   },
   "file_extension": ".py",
   "mimetype": "text/x-python",
   "name": "python",
   "nbconvert_exporter": "python",
   "pygments_lexer": "ipython3",
   "version": "3.11.5"
  }
 },
 "nbformat": 4,
 "nbformat_minor": 2
}
